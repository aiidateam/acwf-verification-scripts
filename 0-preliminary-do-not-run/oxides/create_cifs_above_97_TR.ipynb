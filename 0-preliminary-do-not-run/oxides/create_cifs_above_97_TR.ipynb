{
 "cells": [
  {
   "cell_type": "code",
   "execution_count": 1,
   "metadata": {},
   "outputs": [],
   "source": [
    "from pymatgen.core import Structure\n",
    "import json\n",
    "from ase.data import chemical_symbols\n",
    "import numpy as np"
   ]
  },
  {
   "cell_type": "code",
   "execution_count": 3,
   "metadata": {},
   "outputs": [],
   "source": [
    "# with open('/Users/treents/project/aiida-cwf/data/wien2k/for central volumes/oxides_pbe_prec3.json', 'r') as f:\n",
    "#     oxide_volumes = json.load(f)\n",
    "#     oxide_volumes = {\n",
    "#         k: v['min_volume'] for k, v in oxide_volumes['BM_fit_data'].items()\n",
    "#     }\n",
    "\n",
    "with open('./central_volumes_oxides-verification-PBE-missing-actinides-v1.json', 'r') as f:\n",
    "    oxide_volumes_PBE = json.load(f)\n",
    "    \n",
    "with open('./central_volumes_oxides-verification-PBEsol-v1.json', 'r') as f:\n",
    "    oxide_volumes_PBEsol = json.load(f)\n",
    "\n",
    "with open('./central_volumes_oxides-verification-LDA-v1.json', 'r') as f:\n",
    "    oxide_volumes_LDA = json.load(f)\n",
    "    \n",
    "oxide_volumes = {\n",
    "    'LDA': oxide_volumes_LDA,\n",
    "    'PBE': oxide_volumes_PBE,\n",
    "    'PBEsol': oxide_volumes_PBEsol\n",
    "}"
   ]
  },
  {
   "cell_type": "code",
   "execution_count": 4,
   "metadata": {},
   "outputs": [],
   "source": [
    "prototypes = {\n",
    "    'X2O': 'xsfs-oxides-verification-PBE-v1/Ac-X2O.xsf',\n",
    "    'X2O3': 'xsfs-oxides-verification-PBE-v1/Ac-X2O3.xsf',\n",
    "    'XO': 'xsfs-oxides-verification-PBE-v1/Ac-XO.xsf',\n",
    "    'X2O5': 'xsfs-oxides-verification-PBE-v1/Ac-X2O5.xsf',\n",
    "    'XO2': 'xsfs-oxides-verification-PBE-v1/Ac-XO2.xsf',\n",
    "    'XO3': 'xsfs-oxides-verification-PBE-v1/Ac-XO3.xsf',\n",
    "}"
   ]
  },
  {
   "cell_type": "code",
   "execution_count": 5,
   "metadata": {},
   "outputs": [],
   "source": [
    "assert set(prototypes.keys()) == set(['X2O', 'X2O5', 'XO2', 'X2O3', 'XO', 'XO3'])"
   ]
  },
  {
   "cell_type": "code",
   "execution_count": 6,
   "metadata": {},
   "outputs": [
    {
     "name": "stderr",
     "output_type": "stream",
     "text": [
      "/Users/treents/.aiida_venvs/aiida-cwf/lib/python3.11/site-packages/pymatgen/core/composition.py:326: UserWarning: No Pauling electronegativity for He. Setting to NaN. This has no physical meaning, and is mainly done to avoid errors caused by the code expecting a float.\n",
      "  return sum((el.X * abs(amt) for el, amt in self.items())) / self.num_atoms\n",
      "/Users/treents/.aiida_venvs/aiida-cwf/lib/python3.11/site-packages/pymatgen/core/composition.py:326: UserWarning: No Pauling electronegativity for Ne. Setting to NaN. This has no physical meaning, and is mainly done to avoid errors caused by the code expecting a float.\n",
      "  return sum((el.X * abs(amt) for el, amt in self.items())) / self.num_atoms\n",
      "/Users/treents/.aiida_venvs/aiida-cwf/lib/python3.11/site-packages/pymatgen/core/composition.py:326: UserWarning: No Pauling electronegativity for Ar. Setting to NaN. This has no physical meaning, and is mainly done to avoid errors caused by the code expecting a float.\n",
      "  return sum((el.X * abs(amt) for el, amt in self.items())) / self.num_atoms\n"
     ]
    }
   ],
   "source": [
    "for funct, vols in oxide_volumes.items():\n",
    "    suffix = '-missing-actinides' if funct == 'PBE' else ''\n",
    "    for Z in range(1, 103+1):\n",
    "        element_name = chemical_symbols[Z]\n",
    "        for conf in ['X2O', 'X2O5', 'XO2', 'X2O3', 'XO', 'XO3']:\n",
    "            if element_name not in vols[conf]:\n",
    "                continue\n",
    "            new_strct = Structure.from_file(prototypes[conf]).replace_species(\n",
    "                {'Ac': element_name}\n",
    "                ).get_sorted_structure().scale_lattice(\n",
    "                    vols[conf][element_name]\n",
    "                ).to_file(\n",
    "                    f'xsfs-oxides-verification-{funct}{suffix}-v1/{element_name}-{conf}.xsf'\n",
    "            )\n",
    "        "
   ]
  },
  {
   "cell_type": "code",
   "execution_count": 7,
   "metadata": {},
   "outputs": [
    {
     "name": "stderr",
     "output_type": "stream",
     "text": [
      "/Users/treents/.aiida_venvs/aiida-cwf/lib/python3.11/site-packages/pymatgen/core/composition.py:370: UserWarning: No Pauling electronegativity for He. Setting to NaN. This has no physical meaning, and is mainly done to avoid errors caused by the code expecting a float.\n",
      "  syms = sorted(sym_amt, key=lambda sym: get_el_sp(sym).X)\n",
      "/Users/treents/.aiida_venvs/aiida-cwf/lib/python3.11/site-packages/pymatgen/core/composition.py:370: UserWarning: No Pauling electronegativity for Ne. Setting to NaN. This has no physical meaning, and is mainly done to avoid errors caused by the code expecting a float.\n",
      "  syms = sorted(sym_amt, key=lambda sym: get_el_sp(sym).X)\n",
      "/Users/treents/.aiida_venvs/aiida-cwf/lib/python3.11/site-packages/pymatgen/core/composition.py:370: UserWarning: No Pauling electronegativity for Ar. Setting to NaN. This has no physical meaning, and is mainly done to avoid errors caused by the code expecting a float.\n",
      "  syms = sorted(sym_amt, key=lambda sym: get_el_sp(sym).X)\n"
     ]
    }
   ],
   "source": [
    "for Z in range(1, 96+1):\n",
    "    element_name = chemical_symbols[Z]\n",
    "    for conf in ['X2O', 'X2O5', 'XO2', 'X2O3', 'XO', 'XO3']:\n",
    "        strct = Structure.from_file(f'test_structures_TR/{element_name}_{conf}.xsf')\n",
    "        ref_strct = Structure.from_file(f'xsfs-oxides-verification-PBE-v1/{element_name}-{conf}.xsf')\n",
    "        \n",
    "        assert np.isclose(strct.volume, ref_strct.volume, atol=1e-7), (\n",
    "            f'{strct.volume} != {ref_strct.volume}'\n",
    "        )\n",
    "        assert np.allclose(strct.lattice.abc, ref_strct.lattice.abc, atol=1e-7)\n",
    "        assert np.allclose(strct.lattice.angles, ref_strct.lattice.angles, atol=1e-7)\n",
    "        assert strct.formula == ref_strct.formula, (\n",
    "            f'{strct.formula} != {ref_strct.formula}'\n",
    "        )\n",
    "        assert np.allclose(strct.frac_coords, ref_strct.frac_coords, atol=1e-7), (\n",
    "            f'{strct.frac_coords} != {ref_strct.frac_coords}'\n",
    "        )\n",
    "        assert np.allclose(strct.cart_coords, ref_strct.cart_coords, atol=1e-7)"
   ]
  },
  {
   "cell_type": "code",
   "execution_count": null,
   "metadata": {},
   "outputs": [
    {
     "data": {
      "text/plain": [
       "Structure Summary\n",
       "Lattice\n",
       "    abc : 3.524642686284117 3.524642686284112 3.52464268628412\n",
       " angles : 59.99999999999993 59.999999999999986 59.99999999999993\n",
       " volume : 30.962091653893133\n",
       "      A : 3.05243010558507 0.0 1.76232134314206\n",
       "      B : 1.01747670186169 2.87785870234289 1.76232134314206\n",
       "      C : 0.0 0.0 3.52464268628412\n",
       "    pbc : True True True\n",
       "PeriodicSite: F (1.017, 0.7195, 1.762) [0.25, 0.25, 0.25]\n",
       "PeriodicSite: F (3.052, 2.158, 5.287) [0.75, 0.75, 0.75]\n",
       "PeriodicSite: O (0.0, 0.0, 0.0) [0.0, 0.0, 0.0]"
      ]
     },
     "execution_count": 16,
     "metadata": {},
     "output_type": "execute_result"
    }
   ],
   "source": [
    "strct.get_sorted_structure()"
   ]
  },
  {
   "cell_type": "code",
   "execution_count": 9,
   "metadata": {},
   "outputs": [
    {
     "data": {
      "text/plain": [
       "('F',\n",
       " 'X2O',\n",
       " 9,\n",
       " Structure Summary\n",
       " Lattice\n",
       "     abc : 3.524642686284117 3.524642686284112 3.52464268628412\n",
       "  angles : 59.99999999999993 59.999999999999986 59.99999999999993\n",
       "  volume : 30.962091653893133\n",
       "       A : 3.05243010558507 0.0 1.76232134314206\n",
       "       B : 1.01747670186169 2.87785870234289 1.76232134314206\n",
       "       C : 0.0 0.0 3.52464268628412\n",
       "     pbc : True True True\n",
       " PeriodicSite: F (1.017, 0.7195, 1.762) [0.25, 0.25, 0.25]\n",
       " PeriodicSite: F (3.052, 2.158, 5.287) [0.75, 0.75, 0.75]\n",
       " PeriodicSite: O (0.0, 0.0, 0.0) [0.0, 0.0, 0.0])"
      ]
     },
     "execution_count": 9,
     "metadata": {},
     "output_type": "execute_result"
    }
   ],
   "source": [
    "element_name, conf, Z, strct"
   ]
  },
  {
   "cell_type": "code",
   "execution_count": null,
   "metadata": {},
   "outputs": [
    {
     "data": {
      "text/plain": [
       "(2.5672695406806296, 2.5672695406806327, 2.56726954068063)"
      ]
     },
     "execution_count": 18,
     "metadata": {},
     "output_type": "execute_result"
    }
   ],
   "source": [
    "strct.coo"
   ]
  }
 ],
 "metadata": {
  "kernelspec": {
   "display_name": "aiida-cwf",
   "language": "python",
   "name": "python3"
  },
  "language_info": {
   "codemirror_mode": {
    "name": "ipython",
    "version": 3
   },
   "file_extension": ".py",
   "mimetype": "text/x-python",
   "name": "python",
   "nbconvert_exporter": "python",
   "pygments_lexer": "ipython3",
   "version": "3.11.6"
  }
 },
 "nbformat": 4,
 "nbformat_minor": 2
}
