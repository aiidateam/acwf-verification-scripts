{
 "cells": [
  {
   "cell_type": "markdown",
   "id": "bae94cc4",
   "metadata": {},
   "source": [
    "## delta_per_formula_unit\n",
    "The delta quantity used in the first [science paper](https://www.science.org/doi/10.1126/science.aad3000), but per formula unit, not per atom as proposed in the original version. The units are meV."
   ]
  },
  {
   "cell_type": "markdown",
   "id": "455f9c83",
   "metadata": {},
   "source": [
    "## Prefactor*epsilon2\n",
    "Oleg's suggestion of an improved delta, independent on the bulk modulus, unitless. Given two codes $\\alpha$ and $\\beta$, the quantity for comparison epsilon2 is:\n",
    "\n",
    "$$\n",
    "{\\varepsilon}^2 = \n",
    "    \\frac{ \\int [ E_{\\alpha}(V) - E_{\\beta}(V)]^2 dV }{\\int [E_{\\alpha}(V) - <E_{\\alpha}>]^2 dV   \\int [ E_{\\beta}(V) - <E_{\\beta}>]^2 dV}\n",
    "$$\n",
    "\n",
    "where:\n",
    "$$\n",
    "<E> = \\frac{ \\int E(V) dV}{V_{max}-V_{min}}\n",
    "$$\n",
    "\n",
    "\n",
    "A `Prefactor` can be selected in the app to modify the order of magnitude of this quantity. A prefactor of 100 is suggested to have quantities of the order of the 1."
   ]
  },
  {
   "cell_type": "markdown",
   "id": "a80cd75a",
   "metadata": {},
   "source": [
    "## Prefactor*B0_rel_diff\n",
    "Relative difference on the bulk modulus, a `Prefactor` can be selected\n",
    "## Prefactor*V0_rel_diff\n",
    "Relative difference on the equilibrium volume, a `Prefactor` can be selected#\n",
    "## Prefactor*B1_rel_diff\n",
    "Relative difference on the derivative of the bulk modulus, a `Prefactor` can be selected.\n",
    "## Prefactor*|relerr_vec(weight_bo,weight_b1)|\n",
    "Nicola's suggestion of a quantity directly deriving from V0, B0, B1. It is the module of the vector having as components the relative difference of V0, B0, B1. A weight is put before the various relative difference. In formula:\n",
    "\t $$\n",
    "\\sqrt{\t\\left( w_{V0} * \\frac{V0_{\\alpha}-V0_{\\beta}}{(V0_{\\alpha}+V0_{\\beta})/2} \\right) ^2 \n",
    "\t\t+ \\left( w_{B0} * \\frac{B0_{\\alpha}-B0_{\\beta}}{(B0_{\\alpha}+B0_{\\beta})/2} \\right) ^2 + \n",
    "\t\t \\left( w_{B'} * \\frac{B'_{\\alpha}-B'_{\\beta}}{(B'_{\\alpha}+B'_{\\beta})/2} \\right) ^2} \n",
    "\t$$\n",
    "    \n",
    "In the app, the weight on V0 ($w_{V0}$) is set to 1. The other two weights can be selected using the `weight_Bo` (for $w_{B0}$) and `weight_B1` (for $w_{B'}$) selectors. \n",
    "\n",
    "A `Prefactor` can also be selected."
   ]
  }
 ],
 "metadata": {
  "kernelspec": {
   "display_name": "Python 3",
   "language": "python",
   "name": "python3"
  },
  "language_info": {
   "codemirror_mode": {
    "name": "ipython",
    "version": 3
   },
   "file_extension": ".py",
   "mimetype": "text/x-python",
   "name": "python",
   "nbconvert_exporter": "python",
   "pygments_lexer": "ipython3",
   "version": "3.6.9"
  }
 },
 "nbformat": 4,
 "nbformat_minor": 5
}
