{
 "cells": [
  {
   "cell_type": "markdown",
   "id": "bae94cc4",
   "metadata": {},
   "source": [
    "## delta_per_formula_unit\n",
    "The delta quantity used in the first [science paper](https://www.science.org/doi/10.1126/science.aad3000),\n",
    "$$\n",
    "\\Delta(a,b) = \\sqrt{\\frac{1}{V_M - V_m} \\int_{V_m}^{V_M} [E_a(V) - E_b(V)]^2 ~ dV},\\label{eq:delta}\n",
    "$$\n",
    "\n",
    "In this case, however, we use per-formula-unit quantities, not per-atom quantities as proposed in the original version. The units are meV."
   ]
  },
  {
   "cell_type": "markdown",
   "id": "455f9c83",
   "metadata": {},
   "source": [
    "## epsilon\n",
    "An improved delta, independent on the bulk modulus, unitless. Details in [verification paper](https://arxiv.org/abs/2305.17274),\n",
    "\n",
    "$$\n",
    "\\varepsilon(a,b) = \\sqrt{\n",
    "    \\frac{  \\langle[E_{a}(V) - E_{b}(V)]^2 \\rangle}\n",
    "    {\\sqrt{\\langle [E_{a}(V) - \\langle E_{a} \\rangle]^2 \\rangle  \\langle [ E_{b}(V) - \\langle E_{b} \\rangle]^2 \\rangle}} }.\n",
    "$$\n",
    "\n",
    "where:\n",
    "$$\n",
    " \\langle f \\rangle = \\frac{1}{V_{M}-V_{m}}\\int_{V_{m}}^{V_{M}} f(V) ~ dV.\n",
    "$$\n"
   ]
  },
  {
   "cell_type": "markdown",
   "id": "a80cd75a",
   "metadata": {},
   "source": [
    "\n",
    "## nu\n",
    "A quantity directly deriving from V0, B0, B1. It is the module of the vector having as components the relative difference of V0, B0, B1. Details in [verification paper](https://arxiv.org/abs/2305.17274).\n",
    "$$ \n",
    "   \\nu_{w_{V_0},w_{B_0},w_{B_1}}(a,b) = 100\n",
    "     \\sqrt{\t\\sum_{Y=V_0,B_0,B_1} \\left[ w_{Y} \\cdot \\frac{Y_{a}-Y_{b}}{(Y_{a}+Y_{b})/2} \\right] ^2\n",
    "     }\n",
    "$$\n",
    "    \n",
    "In the app, the weight are set to $w_{V_0} = 1$, $w_{B_0} = 1/20$ and $w_{B_1} = 1/400$, as motivated in the paper"
   ]
  },
  {
   "cell_type": "code",
   "execution_count": null,
   "id": "55211241",
   "metadata": {},
   "outputs": [],
   "source": []
  }
 ],
 "metadata": {
  "kernelspec": {
   "display_name": "Python 3 (ipykernel)",
   "language": "python",
   "name": "python3"
  },
  "language_info": {
   "codemirror_mode": {
    "name": "ipython",
    "version": 3
   },
   "file_extension": ".py",
   "mimetype": "text/x-python",
   "name": "python",
   "nbconvert_exporter": "python",
   "pygments_lexer": "ipython3",
   "version": "3.9.18"
  }
 },
 "nbformat": 4,
 "nbformat_minor": 5
}
